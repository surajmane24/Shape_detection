{
  "nbformat": 4,
  "nbformat_minor": 0,
  "metadata": {
    "colab": {
      "name": "Shape_Detection.ipynb",
      "provenance": [],
      "collapsed_sections": [],
      "mount_file_id": "12ztRGfRXhHPKhO9CM5KorVIylML0yZrB",
      "authorship_tag": "ABX9TyOY6Hp2jQmS2h4LMk72l7+3",
      "include_colab_link": true
    },
    "kernelspec": {
      "name": "python3",
      "display_name": "Python 3"
    },
    "language_info": {
      "name": "python"
    }
  },
  "cells": [
    {
      "cell_type": "markdown",
      "metadata": {
        "id": "view-in-github",
        "colab_type": "text"
      },
      "source": [
        "<a href=\"https://colab.research.google.com/github/surajmane24/Shape_detection/blob/main/Shape_Detection.ipynb\" target=\"_parent\"><img src=\"https://colab.research.google.com/assets/colab-badge.svg\" alt=\"Open In Colab\"/></a>"
      ]
    },
    {
      "cell_type": "code",
      "execution_count": 2,
      "metadata": {
        "id": "Blo2N5LcS41A"
      },
      "outputs": [],
      "source": [
        "import numpy as np\n",
        "import cv2\n",
        "from google.colab.patches import cv2_imshow"
      ]
    },
    {
      "cell_type": "code",
      "source": [
        "img = cv2.imread('/content/drive/MyDrive/IPMV Ex/rect.jpg')\n",
        "imgGrey = cv2.cvtColor(img, cv2.COLOR_BGR2GRAY)\n",
        "_, thrash = cv2.threshold(imgGrey, 240, 255, cv2.THRESH_BINARY)\n",
        "contours, _ = cv2.findContours(thrash, cv2.RETR_TREE, cv2.CHAIN_APPROX_NONE)"
      ],
      "metadata": {
        "id": "2gYbDDcmTDmM"
      },
      "execution_count": 3,
      "outputs": []
    },
    {
      "cell_type": "code",
      "source": [
        "#cv2.imshow(\"img\", img)\n",
        "cv2_imshow(img)\n",
        "for contour in contours:\n",
        "    approx = cv2.approxPolyDP(contour, 0.01* cv2.arcLength(contour, True), True)\n",
        "    cv2.drawContours(img, [approx], 0, (0, 0, 0), 5)\n",
        "    x = approx.ravel()[0]\n",
        "    y = approx.ravel()[1] - 5\n",
        "    if len(approx) == 3:\n",
        "        cv2.putText(img, \"Triangle\", (x, y), cv2.FONT_HERSHEY_COMPLEX, 0.5, (0, 0, 0))\n",
        "    elif len(approx) == 4:\n",
        "        x1 ,y1, w, h = cv2.boundingRect(approx)\n",
        "        aspectRatio = float(w)/h\n",
        "        print(aspectRatio)\n",
        "        if aspectRatio >= 0.95 and aspectRatio <= 1.05:\n",
        "          cv2.putText(img, \"square\", (x, y), cv2.FONT_HERSHEY_COMPLEX, 0.5, (0, 0, 0))\n",
        "        else:\n",
        "          cv2.putText(img, \"rectangle\", (x, y), cv2.FONT_HERSHEY_COMPLEX, 0.5, (0, 0, 0))\n",
        "    elif len(approx) == 5:\n",
        "        cv2.putText(img, \"Pentagon\", (x, y), cv2.FONT_HERSHEY_COMPLEX, 0.5, (0, 0, 0))\n",
        "    elif len(approx) == 10:\n",
        "        cv2.putText(img, \"Star\", (x, y), cv2.FONT_HERSHEY_COMPLEX, 0.5, (0, 0, 0))\n",
        "    else:\n",
        "        cv2.putText(img, \"Circle\", (x, y), cv2.FONT_HERSHEY_COMPLEX, 0.5, (0, 0, 0))\n",
        "\n",
        "\n"
      ],
      "metadata": {
        "colab": {
          "base_uri": "https://localhost:8080/",
          "height": 596
        },
        "id": "99p2BtD5TI1T",
        "outputId": "ae7ad100-b2a2-47ec-ce35-8d60b23dca86"
      },
      "execution_count": 4,
      "outputs": [
        {
          "output_type": "display_data",
          "data": {
            "text/plain": [
              "<PIL.Image.Image image mode=RGB size=787x544 at 0x7F1EFDCC9790>"
            ],
            "image/png": "[encoded data removed]"
          },
          "metadata": {}
        },
        {
          "output_type": "stream",
          "name": "stdout",
          "text": [
            "1.4466911764705883\n",
            "1.8129496402877698\n"
          ]
        }
      ]
    },
    {
      "cell_type": "code",
      "source": [
        "cv2_imshow(img)\n",
        "cv2.waitKey(0)\n",
        "cv2.destroyAllWindows()"
      ],
      "metadata": {
        "colab": {
          "base_uri": "https://localhost:8080/",
          "height": 561
        },
        "id": "ycqad4ZETJTI",
        "outputId": "47c0557a-49ec-4ec6-b148-f40c9ec025a7"
      },
      "execution_count": 5,
      "outputs": [
        {
          "output_type": "display_data",
          "data": {
            "text/plain": [
              "<PIL.Image.Image image mode=RGB size=787x544 at 0x7F1EFDCB6810>"
            ],
            "image/png": "[encoded data removed]"
          },
          "metadata": {}
        }
      ]
    },
    {
      "cell_type": "code",
      "source": [
        "from google.colab import drive\n",
        "drive.mount('/content/drive')"
      ],
      "metadata": {
        "id": "6vnRx8cHD4D3"
      },
      "execution_count": null,
      "outputs": []
    },
    {
      "cell_type": "markdown",
      "source": [
        "# New Section"
      ],
      "metadata": {
        "id": "m_ooM6njVATr"
      }
    }
  ]
}